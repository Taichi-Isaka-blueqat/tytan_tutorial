{
 "cells": [
  {
   "cell_type": "markdown",
   "id": "c9ad525d",
   "metadata": {},
   "source": [
    "## 組合せ最適化問題\n",
    "量子コンピュータで最適化問題を解くには、イジングモデルといわれる物理モデルを利用する。"
   ]
  },
  {
   "cell_type": "markdown",
   "id": "bcb5676f",
   "metadata": {},
   "source": [
    "## QUBO定式化\n",
    "QUBOは問題の答えが小さいほうが正解になるように設定された式です。式の形は、\n",
    "\n",
    "$$\n",
    "QUBO = -\\sum_i h_i q_i -\\sum_{i,j}J_{ij}q_iq_j\n",
    "$$\n",
    "\n",
    "となっている。iとjは点を表し、hはバイアス（局所磁場）、Jは相互作用と呼ばれます。この式ではqは量子ビットを表し0か1を取ります（イジングの場合は+1か-1）。\n",
    "私たちはhとJを問題として設定し、qの値を求めます。"
   ]
  },
  {
   "cell_type": "markdown",
   "id": "a81019d3",
   "metadata": {},
   "source": [
    "## 問題設定の仕方\n",
    "問題の設定の仕方は、グラフ問題というものに問題を落とすことで計算できますが、いくつか問題を解くことでコツをつかめます。\n",
    "\n",
    "主に問題のコスト関数は二種類の式を考える必要があります。\n",
    "\n",
    "１．小さくしたいコスト関数  \n",
    "２．満たすべき条件（制約条件）\n",
    "\n",
    "この二つを別々に設計し、つなげることで実装できます。片方しかない式もあります。"
   ]
  },
  {
   "cell_type": "markdown",
   "id": "e14a3dd9",
   "metadata": {},
   "source": [
    "## 使うツール\n",
    "\n",
    "networkx（ネットワークグラフを書く）  \n",
    "matplotlib（各種のグラフを書く）  \n",
    "numpy（数値ライブラリ）  "
   ]
  },
  {
   "cell_type": "code",
   "execution_count": 1,
   "id": "1a74ce66",
   "metadata": {
    "collapsed": true,
    "jupyter": {
     "outputs_hidden": true
    },
    "tags": []
   },
   "outputs": [],
   "source": [
    "!pip install --quiet networkx matplotlib"
   ]
  },
  {
   "cell_type": "markdown",
   "id": "0fa09fe8",
   "metadata": {},
   "source": [
    "## 3-1.グラフ分割問題\n",
    "頂点と辺からなるグラフを二つのグループの頂点の数がなるべく同じになるように分け、異なるグループ同士の頂点を結ぶ辺の数を最小にする。"
   ]
  },
  {
   "cell_type": "markdown",
   "id": "fd2158dc",
   "metadata": {},
   "source": [
    "### イジング式\n",
    "今回は便宜的に-1と+1からなるイジング式を使います。この問題は二つの式から成り立ちます。異なるグループに分けるコスト$H_A$と異なるグループの頂点を結ぶコスト$H_B$です。\n",
    "\n",
    "$$\n",
    "H_A = (\\sum^N_{i=1} z_i)^2\n",
    "$$\n",
    "\n",
    "$$\n",
    "H_B = \\sum_{i,j \\in E} \\frac{1 - z_i z_j}{2}\n",
    "$$\n",
    "\n",
    "つないだ式。つなぐときには調整パラメーターが必要になりますので、$\\lambda$を付けました。\n",
    "$$\n",
    "H = H_A + \\lambda*H_B = (\\sum^N_{i=1} z_i)^2 + \\lambda\\sum_{i,j \\in E} \\frac{1 - z_i z_j}{2}\n",
    "$$"
   ]
  },
  {
   "cell_type": "markdown",
   "id": "90673293",
   "metadata": {},
   "source": [
    "### 問題設定\n",
    "\n",
    "下記のようなグラフを二つのグループに分割し、グループ間の辺の数を最小にします。"
   ]
  },
  {
   "cell_type": "code",
   "execution_count": 2,
   "id": "d4f4e973",
   "metadata": {
    "tags": []
   },
   "outputs": [
    {
     "data": {
      "image/png": "[encoded data removed]",
      "text/plain": [
       "<Figure size 640x480 with 1 Axes>"
      ]
     },
     "metadata": {},
     "output_type": "display_data"
    }
   ],
   "source": [
    "import networkx as nx\n",
    "import matplotlib.pyplot as plt\n",
    "\n",
    "options = {'node_color': '#efefef','node_size': 1200,'with_labels':'True'}\n",
    "\n",
    "N = 4\n",
    "\n",
    "G = nx.Graph()\n",
    "G.add_nodes_from(nx.path_graph(N))\n",
    "G.add_edges_from([(0,1), (0,2), (0,3),(1,2),(2,3)])\n",
    "nx.draw(G, **options)"
   ]
  },
  {
   "cell_type": "code",
   "execution_count": 4,
   "id": "79718232",
   "metadata": {
    "tags": []
   },
   "outputs": [
    {
     "name": "stdout",
     "output_type": "stream",
     "text": [
      "[[0. 1. 1. 1.]\n",
      " [0. 0. 1. 0.]\n",
      " [0. 0. 0. 1.]\n",
      " [0. 0. 0. 0.]]\n"
     ]
    }
   ],
   "source": [
    "import numpy as np\n",
    "\n",
    "#いじんぐスピンではなくQUBOで\n",
    "\n",
    "\n",
    "#隣接行列\n",
    "A = np.triu(nx.to_numpy_matrix(G))\n",
    "print(A)"
   ]
  },
  {
   "cell_type": "code",
   "execution_count": 54,
   "id": "5023b981",
   "metadata": {},
   "outputs": [
    {
     "name": "stdout",
     "output_type": "stream",
     "text": [
      "  q[0] q[1] q[2] q[3] energy num_oc.\n",
      "0    1    1    0    0    3.0       1\n",
      "4    0    0    1    1    3.0       1\n",
      "5    1    1    0    0    3.0       1\n",
      "6    0    1    1    0    3.0       1\n",
      "7    1    0    0    1    3.0       1\n",
      "8    1    0    0    1    3.0       1\n",
      "1    0    1    0    1    4.0       1\n",
      "2    0    1    0    1    4.0       1\n",
      "3    0    1    0    1    4.0       1\n",
      "9    1    0    1    0    4.0       1\n",
      "['BINARY', 10 rows, 10 samples, 4 variables]\n"
     ]
    }
   ],
   "source": [
    "#式A\n",
    "HA = sum([q[i] for i in range(N)])\n",
    "\n",
    "#式B\n",
    "HB = 0.0\n",
    "for i in range(n):\n",
    "    for j in range(i+1,n):\n",
    "        if(A[i,j] == 1):\n",
    "            HB += (1-q[i]*q[j])/2\n",
    "\n",
    "#式をつなげます。調整変数を100にしています。\n",
    "M = 100\n",
    "H = M*HA**2 + HB"
   ]
  },
  {
   "cell_type": "markdown",
   "id": "5a59a18b",
   "metadata": {},
   "source": [
    "4つの頂点が2つのグループに分かれました。異なるグループの間を結ぶ辺の数は最小で3となっています。答えが1010の場合にはコストが上がっており、辺の数は4となるので、最適ではなくなることから確認できます。以上です。"
   ]
  },
  {
   "cell_type": "markdown",
   "id": "8a7c5981",
   "metadata": {},
   "source": [
    "## 3-2. グラフカラーリング\n",
    "n頂点と辺からなるグラフにおいて、隣接する頂点と異なるm種類の色で塗り分ける問題。"
   ]
  },
  {
   "cell_type": "markdown",
   "id": "4d52a656",
   "metadata": {},
   "source": [
    "### QUBO\n",
    "一つの頂点につきm色を割り当てる制約条件と、隣接する色同士が選ばれないようにペナルティを課す条件を結合します。必要な量子ビット数はm色*n頂点でm*nとなる。\n",
    "\n",
    "$$\n",
    "H_A = \\sum_{v} (1 - \\sum_{i=1}^{m}q_{v,i})^2\n",
    "$$\n",
    "\n",
    "$$\n",
    "H_B = \\sum_{(uv) \\in E}^{n} \\sum_{i=1}^{m} q_{u,i}*q_{v,i}\n",
    "$$"
   ]
  },
  {
   "cell_type": "code",
   "execution_count": 18,
   "id": "49958da4",
   "metadata": {
    "tags": []
   },
   "outputs": [
    {
     "data": {
      "image/png": "[encoded data removed]",
      "text/plain": [
       "<Figure size 640x480 with 1 Axes>"
      ]
     },
     "metadata": {},
     "output_type": "display_data"
    }
   ],
   "source": [
    "import networkx as nx\n",
    "import matplotlib.pyplot as plt\n",
    "\n",
    "options = {'node_color': '#efefef','node_size': 1200,'with_labels':'True'}\n",
    "\n",
    "n = 4 #頂点数\n",
    "m = 3 #塗分ける色の数\n",
    "\n",
    "G = nx.Graph()\n",
    "G.add_nodes_from(nx.path_graph(n))\n",
    "G.add_edges_from([(0,1), (0,2), (0,3),(1,2)])\n",
    "nx.draw(G, **options)"
   ]
  },
  {
   "cell_type": "code",
   "execution_count": 29,
   "id": "bcf6c51a",
   "metadata": {
    "tags": []
   },
   "outputs": [],
   "source": [
    "from tytan import *\n",
    "import sympy as sym\n",
    "\n",
    "#今回は12量子ビット\n",
    "N = n*m\n",
    "q = sym.symbols(\"q_{0:12}\")\n",
    "\n",
    "#隣接行列\n",
    "A = np.triu(nx.to_numpy_matrix(G))\n",
    "\n",
    "#色の通し番号を格納\n",
    "b = np.zeros((n,m))\n",
    "\n",
    "#後で利用するノードの色を表示するための辞書\n",
    "my_dict = {}\n",
    "\n",
    "#色を格納\n",
    "num = 0\n",
    "for v in range(n):\n",
    "    for i in range(m):\n",
    "        b[v][i] = num\n",
    "        my_dict[num] = [str(v),i]\n",
    "        num += 1\n",
    "\n",
    "#色を選択するQUBO\n",
    "h_1= 0.0\n",
    "const_h = 0.0\n",
    "for v in range (n):\n",
    "    for i in range(m):\n",
    "        const_h += q[int(b[v,i])]\n",
    "        \n",
    "    h_1 += (1 - const_h)**2\n",
    "    const_h = 0.0\n",
    "\n",
    "#隣接するノードで同じ色が選択されないQUBO\n",
    "h_2 = 0.0    \n",
    "for u in range(n):\n",
    "    for v in range(n):\n",
    "        for i in range(m):\n",
    "            if(A[u,v]==1):\n",
    "                h_2 += q[int(b[u,i])]*q[int(b[v,i])]\n",
    "\n",
    "#QUBOを統合\n",
    "H = h_1 + h_2"
   ]
  },
  {
   "cell_type": "code",
   "execution_count": 33,
   "id": "128aa504-3f08-4c59-88cc-fc7471162049",
   "metadata": {
    "tags": []
   },
   "outputs": [
    {
     "name": "stdout",
     "output_type": "stream",
     "text": [
      "Sample = {'q_{0}': 0.0, 'q_{10}': 0.0, 'q_{11}': 0.0, 'q_{1}': 0.0, 'q_{2}': 1.0, 'q_{3}': 0.0, 'q_{4}': 1.0, 'q_{5}': 0.0, 'q_{6}': 1.0, 'q_{7}': 0.0, 'q_{8}': 0.0, 'q_{9}': 1.0}\n",
      "Cost = 0\n"
     ]
    }
   ],
   "source": [
    "# Compileクラスを使用して、QUBOを取得\n",
    "Q, offset = qubo.Compile(H).get_qubo()\n",
    "\n",
    "# サンプラーを選択\n",
    "solver = sampler.SASampler()\n",
    "\n",
    "#クラウドサンプラーの場合\n",
    "#API_KEY = \"API key\"\n",
    "#solver = sampler.NQSSampler()\n",
    "#result = solver.run(Q, api_key=API_KEY)\n",
    "\n",
    "# 計算\n",
    "result = solver.run(Q, shots=100)\n",
    "#print(result)\n",
    "\n",
    "print(\"Sample =\", result[0][0])\n",
    "print(\"Cost =\", result[0][1] + offset)"
   ]
  },
  {
   "cell_type": "code",
   "execution_count": 31,
   "id": "0e6d9b4a-e22a-4470-9878-47fed994b7b7",
   "metadata": {
    "tags": []
   },
   "outputs": [
    {
     "name": "stdout",
     "output_type": "stream",
     "text": [
      "['0', 2]\n",
      "['1', 1]\n",
      "['2', 0]\n",
      "['3', 0]\n"
     ]
    }
   ],
   "source": [
    "values_list = [0,0,1,0,1,0,1,0,0,1,0,0]\n",
    "\n",
    "for i in range(N):\n",
    "    if(values_list[i]==1):\n",
    "        print(my_dict[i])"
   ]
  }
 ],
 "metadata": {
  "kernelspec": {
   "display_name": "Python 3 (ipykernel)",
   "language": "python",
   "name": "python3"
  },
  "language_info": {
   "codemirror_mode": {
    "name": "ipython",
    "version": 3
   },
   "file_extension": ".py",
   "mimetype": "text/x-python",
   "name": "python",
   "nbconvert_exporter": "python",
   "pygments_lexer": "ipython3",
   "version": "3.10.10"
  }
 },
 "nbformat": 4,
 "nbformat_minor": 5
}
