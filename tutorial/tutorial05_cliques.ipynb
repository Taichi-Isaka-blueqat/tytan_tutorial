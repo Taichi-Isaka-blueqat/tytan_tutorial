{
 "cells": [
  {
   "cell_type": "markdown",
   "id": "aa3ac4a2",
   "metadata": {},
   "source": [
    "## 組合せ最適化問題\n",
    "量子コンピュータで最適化問題を解くには、イジングモデルといわれる物理モデルを利用する。"
   ]
  },
  {
   "cell_type": "markdown",
   "id": "c8a69b75",
   "metadata": {},
   "source": [
    "## QUBO定式化\n",
    "QUBOは問題の答えが小さいほうが正解になるように設定された式です。式の形は、\n",
    "\n",
    "$$\n",
    "QUBO = -\\sum_i h_i q_i -\\sum_{i,j}J_{ij}q_iq_j\n",
    "$$\n",
    "\n",
    "となっている。iとjは点を表し、hはバイアス（局所磁場）、Jは相互作用と呼ばれます。この式ではqは量子ビットを表し0か1を取ります（イジングの場合は+1か-1）。\n",
    "私たちはhとJを問題として設定し、qの値を求めます。"
   ]
  },
  {
   "cell_type": "markdown",
   "id": "2c9302fe",
   "metadata": {},
   "source": [
    "## 問題設定の仕方\n",
    "問題の設定の仕方は、グラフ問題というものに問題を落とすことで計算できますが、いくつか問題を解くことでコツをつかめます。\n",
    "\n",
    "主に問題のコスト関数は二種類の式を考える必要があります。\n",
    "\n",
    "１．小さくしたいコスト関数  \n",
    "２．満たすべき条件（制約条件）\n",
    "\n",
    "この二つを別々に設計し、つなげることで実装できます。片方しかない式もあります。"
   ]
  },
  {
   "cell_type": "markdown",
   "id": "cdd08d79",
   "metadata": {},
   "source": [
    "## 使うツール\n",
    "\n",
    "networkx（ネットワークグラフを書く）  \n",
    "matplotlib（各種のグラフを書く）  \n",
    "numpy（数値ライブラリ）  "
   ]
  },
  {
   "cell_type": "code",
   "execution_count": 1,
   "id": "7c43477d",
   "metadata": {
    "collapsed": true,
    "jupyter": {
     "outputs_hidden": true
    },
    "tags": []
   },
   "outputs": [],
   "source": [
    "!pip install --quiet networkx matplotlib"
   ]
  },
  {
   "cell_type": "markdown",
   "id": "714368e2",
   "metadata": {},
   "source": [
    "## 4-1. クリーク判定問題\n",
    "クリークとは, 頂点同士がすべてつながっている頂点群を言います。\n",
    "\n",
    "クリーク問題は、グラフ $G=(V,E)$ の部分集合 $W \\in V$ において、大きさ $|W| = K$ のあらゆる2点を繋ぐ$\\frac{K(K-1)}{2}$個の辺があるかどうかを判定します。"
   ]
  },
  {
   "cell_type": "markdown",
   "id": "4a5ee51b",
   "metadata": {},
   "source": [
    "### QUBO式\n",
    "考えるイジング式は, グラフの大きさが$K$になる式と、辺の数が$\\frac{K(Kー1)}{2}$個になる場合の2個を足します. \n",
    "\n",
    "1. 部分集合のサイズが$K$個ある条件式\n",
    "\n",
    "$$ C_1 = ( K - \\sum_{v\\in V} q_v) ^ 2 $$\n",
    "\n",
    "2. あらゆる2点をつなぐ辺の数が $\\frac{K(K-1)}{2}$ある条件式\n",
    "\n",
    "$$ C_2 = \\frac{K(K-1)}{2} - \\sum_{u,v \\in E} q_uq_v $$\n",
    "\n",
    "求めるイジング式はこの2つを足します. "
   ]
  },
  {
   "cell_type": "markdown",
   "id": "9713c1a3",
   "metadata": {},
   "source": [
    "### 問題設定\n",
    "下記のような４点の問題を考えます。クリークがあるところの頂点がすべて1に、それ以外が0になります。"
   ]
  },
  {
   "cell_type": "code",
   "execution_count": 14,
   "id": "ac831aae",
   "metadata": {
    "tags": []
   },
   "outputs": [
    {
     "data": {
      "image/png": "[encoded data removed]",
      "text/plain": [
       "<Figure size 640x480 with 1 Axes>"
      ]
     },
     "metadata": {},
     "output_type": "display_data"
    }
   ],
   "source": [
    "import networkx as nx\n",
    "import matplotlib.pyplot as plt\n",
    "import numpy as np\n",
    "\n",
    "options = {'node_color': '#efefef','node_size': 1200,'with_labels':'True'}\n",
    "\n",
    "#頂点数\n",
    "n = 7\n",
    "\n",
    "#探すクリーク数\n",
    "K = 4\n",
    "\n",
    "G = nx.Graph()\n",
    "G.add_nodes_from(nx.path_graph(n))\n",
    "\n",
    "G.add_edges_from([(0,1),(0,2),(0,3),(0,4),(1,2),(1,3),(2,3),(4,6),(4,5),(5,6)])\n",
    "nx.draw(G, **options)"
   ]
  },
  {
   "cell_type": "code",
   "execution_count": 20,
   "id": "a251135b-eff0-46bb-aaf8-621207f4c5cc",
   "metadata": {
    "tags": []
   },
   "outputs": [
    {
     "name": "stdout",
     "output_type": "stream",
     "text": [
      "Sample = {'q_{0}': 1.0, 'q_{1}': 1.0, 'q_{2}': 1.0, 'q_{3}': 1.0, 'q_{4}': 0.0, 'q_{5}': 0.0, 'q_{6}': 0.0}\n",
      "Cost = 0\n"
     ]
    }
   ],
   "source": [
    "from tytan import *\n",
    "import sympy as sym\n",
    "\n",
    "# 変数を定義\n",
    "q = sym.symbols(\"q_{0:7}\")\n",
    "    \n",
    "#一つ目の式を準備\n",
    "C_1 = (K - sum(q))**2\n",
    "\n",
    "#二つ目の式を準備\n",
    "C_2 = K*(K-1)/2 - sum(q[k[0]]*q[k[1]] for k in G.edges)\n",
    "\n",
    "#式をつなげます。\n",
    "H = C_1*10 + C_2\n",
    "\n",
    "# Compileクラスを使用して、QUBOを取得\n",
    "Q, offset = qubo.Compile(H).get_qubo()\n",
    "\n",
    "#print(Q)\n",
    "\n",
    "# サンプラーを選択\n",
    "solver = sampler.SASampler()\n",
    "\n",
    "#クラウドサンプラーの場合\n",
    "#API_KEY = \"API key\"\n",
    "#solver = sampler.NQSSampler()\n",
    "#result = solver.run(Q, api_key=API_KEY)\n",
    "\n",
    "# 計算\n",
    "result = solver.run(Q, shots=100)\n",
    "\n",
    "print(\"Sample =\", result[0][0])\n",
    "print(\"Cost =\", result[0][1] + offset)"
   ]
  },
  {
   "cell_type": "markdown",
   "id": "bcfdd18a",
   "metadata": {},
   "source": [
    "頂点0,1,2,3に大きさ4のクリークを見つけられました。"
   ]
  },
  {
   "cell_type": "markdown",
   "id": "e3037143",
   "metadata": {},
   "source": [
    "## 4-2. Clique Cover\n",
    "与えられたグラフを$N$個のクリークに色を割り当てることが出来るかどうか求める問題. "
   ]
  },
  {
   "cell_type": "markdown",
   "id": "61f3f983",
   "metadata": {},
   "source": [
    "### QUBO式\n",
    "頂点 $v$ が色 $i$ のときのビット変数を $x_{v,i}$とします.\n",
    "\n",
    "1. 頂点が一つの色を持つ条件\n",
    "2. 色の合計が$N$になる条件\n",
    "\n",
    "$ \\displaystyle H = A \\sum_v \\left( 1 - \\sum_{i = 1}^n x_{v,i} \\right)^2 + B \\sum_{i=1}^n \\left[ \\frac {1}{2} \\left( -1 + \\sum_v x_{v,i} \\right) \\sum_v x_{v,i} - \\sum_{(uv) \\in E} x_{u,i}x_{v.i} \\right]$"
   ]
  },
  {
   "cell_type": "markdown",
   "id": "e1ac3bc6",
   "metadata": {},
   "source": [
    "### 問題設定\n",
    "下記のような５点の問題を考えます。"
   ]
  },
  {
   "cell_type": "code",
   "execution_count": 21,
   "id": "db22aed7",
   "metadata": {
    "tags": []
   },
   "outputs": [
    {
     "data": {
      "image/png": "[encoded data removed]",
      "text/plain": [
       "<Figure size 640x480 with 1 Axes>"
      ]
     },
     "metadata": {},
     "output_type": "display_data"
    }
   ],
   "source": [
    "import networkx as nx\n",
    "import matplotlib.pyplot as plt\n",
    "\n",
    "options = {'node_color': '#efefef','node_size': 1200,'with_labels':'True'}\n",
    "\n",
    "N = 5\n",
    "\n",
    "G = nx.Graph()\n",
    "G.add_nodes_from(nx.path_graph(N))\n",
    "G.add_edges_from([(0,1),(0,2),(1,2),(1,3),(1,4),(2,0),(2,3),(3,4)])\n",
    "nx.draw(G, **options)"
   ]
  },
  {
   "cell_type": "code",
   "execution_count": 22,
   "id": "4b30881d-6b1d-4b55-9318-108fb7ca6a21",
   "metadata": {
    "tags": []
   },
   "outputs": [
    {
     "name": "stdout",
     "output_type": "stream",
     "text": [
      "[[0. 1. 1. 0. 0.]\n",
      " [1. 0. 1. 1. 1.]\n",
      " [1. 1. 0. 1. 0.]\n",
      " [0. 1. 1. 0. 1.]\n",
      " [0. 1. 0. 1. 0.]]\n"
     ]
    }
   ],
   "source": [
    "from tytan import *\n",
    "import sympy as sym\n",
    "import numpy as np\n",
    "\n",
    "n_color = 2\n",
    "graph_size = N\n",
    "q_size = n_color*graph_size\n",
    "\n",
    "# 変数を定義\n",
    "q = sym.symbols(\"q_{0:10}\")\n",
    "\n",
    "#隣接行列\n",
    "A = nx.to_numpy_matrix(G)\n",
    "print(A)"
   ]
  },
  {
   "cell_type": "code",
   "execution_count": 23,
   "id": "e905c77e-755c-4f3f-b3ad-c9ffdb6040c7",
   "metadata": {
    "tags": []
   },
   "outputs": [],
   "source": [
    "A=0.1\n",
    "B=0.1\n",
    "\n",
    "#式A\n",
    "HA = 0\n",
    "for v in range(graph_size):\n",
    "    sum_x = 0\n",
    "    for i in range(n_color):\n",
    "        index = v * n_color + i\n",
    "        sum_x += q[index]\n",
    "        HA += (1 - sum_x) ** 2\n",
    "HA *= A\n",
    "\n",
    "#式B\n",
    "HB = 0.0\n",
    "for i in range(n_color):\n",
    "    sum_x = 0\n",
    "    for v in range(graph_size):\n",
    "        vi = v * n_color + i\n",
    "        sum_x += q[vi]\n",
    "        for u in range(graph_size):\n",
    "            if u >= v:\n",
    "                continue\n",
    "                ui = u * n_color + i\n",
    "                HB -= G[u][v] * q[ui] * q[vi]\n",
    "        HB += 0.5 * (-1 + sum_x) * sum_x\n",
    "    HB *= B\n",
    "\n",
    "#式をつなげます。\n",
    "H = HA + HB"
   ]
  },
  {
   "cell_type": "code",
   "execution_count": 25,
   "id": "1952eb08-bac4-4768-a557-7f3000290e11",
   "metadata": {
    "tags": []
   },
   "outputs": [
    {
     "name": "stdout",
     "output_type": "stream",
     "text": [
      "Sample = {'q_{0}': 1.0, 'q_{1}': 0.0, 'q_{2}': 1.0, 'q_{3}': 0.0, 'q_{4}': 1.0, 'q_{5}': 0.0, 'q_{6}': 1.0, 'q_{7}': 0.0, 'q_{8}': 1.0, 'q_{9}': 0.0}\n",
      "Cost = 0.200000000000000\n"
     ]
    }
   ],
   "source": [
    "# Compileクラスを使用して、QUBOを取得\n",
    "Q, offset = qubo.Compile(H).get_qubo()\n",
    "\n",
    "#print(Q)\n",
    "\n",
    "# サンプラーを選択\n",
    "solver = sampler.SASampler()\n",
    "\n",
    "#クラウドサンプラーの場合\n",
    "#API_KEY = \"API key\"\n",
    "#solver = sampler.NQSSampler()\n",
    "#result = solver.run(Q, api_key=API_KEY)\n",
    "\n",
    "# 計算\n",
    "result = solver.run(Q, shots=100)\n",
    "\n",
    "print(\"Sample =\", result[0][0])\n",
    "print(\"Cost =\", result[0][1] + offset)"
   ]
  },
  {
   "cell_type": "markdown",
   "id": "a2c4fcaf",
   "metadata": {},
   "source": [
    "## 4-3.厳密被覆問題(EXACT COVER PROBLEM)\n",
    "集合 $ U = {1,....,n}$の部分集合 $V_i \\in U \\{1,....,n\\}$. のうち任意の部分集合の和集合が$U$であるようなものがあるかどうか.\n",
    "\n",
    "$U=1,2,3$  \n",
    "$V1=1,2$  \n",
    "$V2=1$  \n",
    "$V3=3$  \n"
   ]
  },
  {
   "cell_type": "markdown",
   "id": "35d10dcb",
   "metadata": {},
   "source": [
    "### イジング式\n",
    "バイナリ変数 $x_i$ が $1$のときに部分集合 $V_i$ に含まれるとする.\n",
    "考えるイジング式は,  $x_i$が$1$のときの部分集合$V_i$の和が集合$U$の要素とちょうど同じになるときを考える. \n",
    "\n",
    "$$ H = A \\sum_{\\alpha=1}^{n} ( 1 - \\sum_{i:\\alpha\\in V_i} x_i)^2$$"
   ]
  },
  {
   "cell_type": "markdown",
   "id": "eed0fdc4",
   "metadata": {},
   "source": [
    "### 問題設定"
   ]
  },
  {
   "cell_type": "code",
   "execution_count": 26,
   "id": "628fe473",
   "metadata": {
    "tags": []
   },
   "outputs": [
    {
     "name": "stdout",
     "output_type": "stream",
     "text": [
      "Sample = {'q_{0}': 1.0, 'q_{1}': 0.0, 'q_{2}': 1.0}\n",
      "Cost = 0\n"
     ]
    }
   ],
   "source": [
    "from tytan import *\n",
    "import sympy as sym\n",
    "import numpy as np\n",
    "\n",
    "graph_size = 3\n",
    "q_size = graph_size\n",
    "\n",
    "# 変数を定義\n",
    "q = sym.symbols(\"q_{0:3}\")\n",
    "\n",
    "U = np.array([1, 2, 3])\n",
    "V_size = 3\n",
    "\n",
    "V = np.array([[1,2],[1],[3]],dtype=object)\n",
    "\n",
    "H = 0.0\n",
    "temp = 0.0\n",
    "for i in range(U.size):\n",
    "    for j in range(V.size):\n",
    "        if((np.where(V[j] == U[i]))[0].size > 0):\n",
    "            temp+= q[j]\n",
    "    H+= (1 - temp)**2\n",
    "    temp = 0.0\n",
    "    \n",
    "H = 10 * H\n",
    "\n",
    "U = np.array([1, 2, 3])\n",
    "V_size = 3\n",
    "\n",
    "V = np.array([[1,2],[1],[3]],dtype=object)\n",
    "\n",
    "H = 0.0\n",
    "temp = 0.0\n",
    "for i in range(U.size):\n",
    "    for j in range(V.size):\n",
    "        if((np.where(V[j] == U[i]))[0].size > 0):\n",
    "            temp+= q[j]\n",
    "    H+= (1 - temp)**2\n",
    "    temp = 0.0\n",
    "    \n",
    "# Compileクラスを使用して、QUBOを取得\n",
    "Q, offset = qubo.Compile(H).get_qubo()\n",
    "\n",
    "#print(Q)\n",
    "\n",
    "# サンプラーを選択\n",
    "solver = sampler.SASampler()\n",
    "\n",
    "#クラウドサンプラーの場合\n",
    "#API_KEY = \"API key\"\n",
    "#solver = sampler.NQSSampler()\n",
    "#result = solver.run(Q, api_key=API_KEY)\n",
    "\n",
    "# 計算\n",
    "result = solver.run(Q, shots=100)\n",
    "\n",
    "print(\"Sample =\", result[0][0])\n",
    "print(\"Cost =\", result[0][1] + offset)"
   ]
  }
 ],
 "metadata": {
  "kernelspec": {
   "display_name": "Python 3 (ipykernel)",
   "language": "python",
   "name": "python3"
  },
  "language_info": {
   "codemirror_mode": {
    "name": "ipython",
    "version": 3
   },
   "file_extension": ".py",
   "mimetype": "text/x-python",
   "name": "python",
   "nbconvert_exporter": "python",
   "pygments_lexer": "ipython3",
   "version": "3.10.10"
  }
 },
 "nbformat": 4,
 "nbformat_minor": 5
}
