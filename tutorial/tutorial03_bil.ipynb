{
 "cells": [
  {
   "cell_type": "markdown",
   "id": "afd500c8",
   "metadata": {},
   "source": [
    "## 組合せ最適化問題\n",
    "量子コンピュータで最適化問題を解くには、イジングモデルといわれる物理モデルを利用する。"
   ]
  },
  {
   "cell_type": "markdown",
   "id": "1d720926",
   "metadata": {},
   "source": [
    "## QUBO定式化\n",
    "QUBOは問題の答えが小さいほうが正解になるように設定された式です。式の形は、\n",
    "\n",
    "$$\n",
    "QUBO = -\\sum_i h_i q_i -\\sum_{i,j}J_{ij}q_iq_j\n",
    "$$\n",
    "\n",
    "となっている。iとjは点を表し、hはバイアス（局所磁場）、Jは相互作用と呼ばれます。この式ではqは量子ビットを表し0か1を取ります（イジングの場合は+1か-1）。\n",
    "私たちはhとJを問題として設定し、qの値を求めます。"
   ]
  },
  {
   "cell_type": "markdown",
   "id": "1c0b745b",
   "metadata": {},
   "source": [
    "## 問題設定の仕方\n",
    "問題の設定の仕方は、グラフ問題というものに問題を落とすことで計算できますが、いくつか問題を解くことでコツをつかめます。\n",
    "\n",
    "主に問題のコスト関数は二種類の式を考える必要があります。\n",
    "\n",
    "１．小さくしたいコスト関数  \n",
    "２．満たすべき条件（制約条件）\n",
    "\n",
    "この二つを別々に設計し、つなげることで実装できます。片方しかない式もあります。"
   ]
  },
  {
   "cell_type": "markdown",
   "id": "f222e04c",
   "metadata": {},
   "source": [
    "## 使うツール\n",
    "\n",
    "networkx（ネットワークグラフを書く）  \n",
    "matplotlib（各種のグラフを書く）  \n",
    "numpy（数値ライブラリ）  "
   ]
  },
  {
   "cell_type": "code",
   "execution_count": 1,
   "id": "f0a83451",
   "metadata": {
    "scrolled": true,
    "tags": []
   },
   "outputs": [],
   "source": [
    "!pip install --quiet networkx matplotlib"
   ]
  },
  {
   "cell_type": "markdown",
   "id": "1adfefae",
   "metadata": {},
   "source": [
    "## 2-1.二値整数計画問題\n",
    "こちらはある連立方程式を満たしたうえである計算を最小化する、制約付きの最小値問題です。  \n",
    "より正確には、$Sx = b$を満たすベクトル$x$のうち、$cx$を最小にするxを探します。"
   ]
  },
  {
   "cell_type": "markdown",
   "id": "2d140a6d",
   "metadata": {},
   "source": [
    "### QUBO\n",
    "この問題は二つの式から成り立ちます。連立方程式の制約を満たすための$H_A$と最小コストを求めるための$H_B$です。\n",
    "\n",
    "連立方程式を満たす式\n",
    "$$\n",
    "H_A = \\sum_{j=1}^m[b_j - \\sum_{i=1}^NS_{ji}x_i]^2\n",
    "$$\n",
    "\n",
    "ベクトルの計算を最小化する式\n",
    "$$\n",
    "H_B = - \\sum_{i=1}^Nc_ix_i\n",
    "$$\n",
    "\n",
    "つないだ式。つなぐときには調整パラメーターが必要になりますので、$\\lambda$を付けました。\n",
    "$$\n",
    "H = H_A + \\lambda*H_B = \\sum_{j=1}^m[b_j - \\sum_{i=1}^NS_{ji}x_i]^2 - \\lambda*\\sum_{i=1}^Nc_ix_i\n",
    "$$"
   ]
  },
  {
   "cell_type": "markdown",
   "id": "076bc0c0",
   "metadata": {},
   "source": [
    "### 問題設定\n",
    "\n",
    "下記を満たすxのうち、\n",
    "\n",
    "$$\n",
    "\\begin{bmatrix}\n",
    "3 & 2 & 1 \\\\\n",
    "5 & 2 & 3\n",
    "\\end{bmatrix}\n",
    "\\begin{bmatrix}\n",
    "x_0\\\\x_1\\\\x_2\n",
    "\\end{bmatrix}\n",
    "=\n",
    "\\begin{bmatrix}\n",
    "3\\\\5\n",
    "\\end{bmatrix}\n",
    "$$\n",
    "\n",
    "次の式を最小にするようなxを求める。\n",
    "\n",
    "$$\n",
    "\\begin{bmatrix}\n",
    "1&2&1\n",
    "\\end{bmatrix}\n",
    "\\begin{bmatrix}\n",
    "x_0\\\\x_1\\\\x_2\n",
    "\\end{bmatrix}\n",
    "$$\n",
    "\n",
    "制約条件を満たすとき、QUBO式は0になります。そのため、0にならなかったら制約を満たしていないというのがすぐにわかります。制約を満たしてなかったらそもそも答えとして成立しません。"
   ]
  },
  {
   "cell_type": "code",
   "execution_count": 3,
   "id": "6e3647f3",
   "metadata": {
    "tags": []
   },
   "outputs": [
    {
     "name": "stdout",
     "output_type": "stream",
     "text": [
      "{('q_{0}', 'q_{0}'): -44, ('q_{1}', 'q_{1}'): -44, ('q_{2}', 'q_{2}'): -36, ('q_{1}', 'q_{2}'): 16, ('q_{0}', 'q_{1}'): 32, ('q_{0}', 'q_{2}'): 36} 34\n",
      "[[{'q_{0}': 0.0, 'q_{1}': 1.0, 'q_{2}': 1.0}, -64.0, 42], [{'q_{0}': 1.0, 'q_{1}': 1.0, 'q_{2}': 0.0}, -56.0, 58]]\n"
     ]
    }
   ],
   "source": [
    "from tytan import *\n",
    "import sympy as sym\n",
    "\n",
    "# 変数を定義 q_0, q_1, q_2\n",
    "q = sym.symbols(\"q_{0:3}\")\n",
    "\n",
    "#式を別々に用意します。\n",
    "HA = (3*q[0]+2*q[1]+q[2]-3)**2 + (5*q[0]+2*q[1]+3*q[2]-5)**2\n",
    "HB = -(q[0]+2*q[1]+q[2])\n",
    "\n",
    "#つけるときに今回はConstraint関数を使うことであとで簡単に確かめができます。Constraintは制約条件の方だけにつけます。\n",
    "M = 10\n",
    "H = HA + M*HB\n",
    "\n",
    "# Compileクラスを使用して、QUBOを取得\n",
    "Q, offset = qubo.Compile(H).get_qubo()\n",
    "\n",
    "print(Q,offset)\n",
    "\n",
    "# サンプラーを選択\n",
    "solver = sampler.SASampler()\n",
    "\n",
    "#クラウドサンプラーの場合\n",
    "#API_KEY = \"API key\"\n",
    "#solver = sampler.NQSSampler()\n",
    "#result = solver.run(Q, api_key=API_KEY)\n",
    "\n",
    "# 計算\n",
    "result = solver.run(Q, shots=100)\n",
    "print(result)"
   ]
  },
  {
   "cell_type": "code",
   "execution_count": 4,
   "id": "e6b438fe-8d10-4663-8a79-65f9a1b9ac59",
   "metadata": {
    "tags": []
   },
   "outputs": [
    {
     "name": "stdout",
     "output_type": "stream",
     "text": [
      "Sample = {'q_{0}': 0.0, 'q_{1}': 1.0, 'q_{2}': 1.0}\n",
      "Cost = -30.0000000000000\n"
     ]
    }
   ],
   "source": [
    "print(\"Sample =\", result[0][0])\n",
    "print(\"Cost =\", result[0][1] + offset)"
   ]
  },
  {
   "cell_type": "markdown",
   "id": "2a0d17c6",
   "metadata": {},
   "source": [
    "011が正解で、コストが-30.0となりました。"
   ]
  },
  {
   "cell_type": "markdown",
   "id": "7a853dee",
   "metadata": {},
   "source": [
    "## 2-2. 巡回セールスマン問題\n",
    "巡回セールスマン問題はとても有名な問題です。解いてみましょう。巡回セールスマン問題は都市を一筆書きで順番に回り、一番回った距離が短かったのを正解とする組合せ最適化問題です。二回同じ都市を回ってはいけません。"
   ]
  },
  {
   "cell_type": "markdown",
   "id": "1234f763",
   "metadata": {},
   "source": [
    "### QUBO\n",
    "こちらは回る距離が小さくなるコスト関数１つと制約条件が２種類あります。\n",
    "\n",
    "$$\n",
    "H = \\sum_{v=1}^n\\left( 1-\\sum_{j=1}^N x_{v,j} \\right)^2 + \\sum_{j=1}^N\\left(1-\\sum_{v=1}^Nx_{v,j} \\right)^2 + B\\sum_{(u,v)\\in E}W_{u,v}\\sum_{j=1}^N x_{u,j} x_{v,j+1}\n",
    "$$"
   ]
  },
  {
   "cell_type": "markdown",
   "id": "98c02617",
   "metadata": {},
   "source": [
    "### 問題設定\n",
    "実装してみます。ABCD四つの都市があり、それぞれの都市の間の距離を設定した問題を実装します。これらの都市を二回回らず一回で最短距離を求めます。\n",
    "![img](./img/tsp1.png)\n",
    "\n",
    "Nは都市数、Wは都市間の距離です。uとvは都市の番号。jは回る順番です。式だけだとわかりづらいので前の二つの制約条件を図で見てみます。利用する量子ビットは都市数に対して$N^2$となります。一つの量子ビットに回る都市とその順番を割り当てます。\n",
    "\n",
    "下の図ではAからDまでの都市が行に、回る順番が列に指定されています。全部で4x4=16量子ビットあります。0のものは使わず、1のものをつかい、1となっている量子ビットの都市と回る順番が採用されます。\n",
    "\n",
    "一つ目の制約条件は一つの都市は一度だけ回るです。なので順番が複数あってはいけません。なので各列で1つだけ1、残りは0になるはずです。これをすべての列で行います。\n",
    "\n",
    "![img2](./img/tsp2.png)"
   ]
  },
  {
   "cell_type": "markdown",
   "id": "6f961707",
   "metadata": {},
   "source": [
    "二つ目の条件は一つの順番は一度だけ出現するです。上記の行の条件だけではすべて同じ列に集まってしまった場合も成立してしまいます。なので、次に同じように列の条件を加えます。\n",
    "\n",
    "![tsp3](./img/tsp3.png)"
   ]
  },
  {
   "cell_type": "markdown",
   "id": "b55daa3a",
   "metadata": {},
   "source": [
    "この二つで制約条件は終わりです。最後に距離を含んだコスト関数を加えて終わりです。\n",
    "\n",
    "$$\n",
    "H = \\sum_{v=1}^n\\left( 1-\\sum_{j=1}^N x_{v,j} \\right)^2 + \\sum_{j=1}^N\\left(1-\\sum_{v=1}^Nx_{v,j} \\right)^2 + B\\sum_{(u,v)\\in E}W_{u,v}\\sum_{j=1}^N x_{u,j} x_{v,j+1}\n",
    "$$\n"
   ]
  },
  {
   "cell_type": "markdown",
   "id": "9afe55f3",
   "metadata": {},
   "source": [
    "制約条件とコスト関数はバランスを調整する必要があり、調整変数Bが加えられてます。これは自分で探索する必要があります。量子ビットを左上から右下へ通し番号を0から15まで付けます。一つ目の制約条件は、"
   ]
  },
  {
   "cell_type": "code",
   "execution_count": 7,
   "id": "4d123161",
   "metadata": {
    "tags": []
   },
   "outputs": [],
   "source": [
    "from tytan import *\n",
    "import sympy as sym\n",
    "import numpy as np\n",
    "\n",
    "# 変数を定義\n",
    "q = sym.symbols(\"q_{0:16}\")\n",
    "\n",
    "\n",
    "#行の制約\n",
    "H1 = (1-q[0]-q[1]-q[2]-q[3])**2 + (1-q[4]-q[5]-q[6]-q[7])**2 + (1-q[8]-q[9]-q[10]-q[11])**2 + (1-q[12]-q[13]-q[14]-q[15])**2\n",
    "\n",
    "#列の制約\n",
    "H2 = (1-q[0]-q[4]-q[8]-q[12])**2 + (1-q[1]-q[5]-q[9]-q[13])**2 + (1-q[2]-q[6]-q[10]-q[14])**2 + (1-q[3]-q[7]-q[11]-q[15])**2"
   ]
  },
  {
   "cell_type": "markdown",
   "id": "4c7104cf",
   "metadata": {},
   "source": [
    "次に全体の距離を設定します。距離は問題からとります。距離の計算はちょっとめんどいかもしれません。"
   ]
  },
  {
   "cell_type": "code",
   "execution_count": 8,
   "id": "6c230c37",
   "metadata": {
    "tags": []
   },
   "outputs": [],
   "source": [
    "#ABCDの順\n",
    "d = np.ones((16,16))*99\n",
    "\n",
    "#A=>B\n",
    "d[0][5] = d[1][6] = d[2][7] = d[3][4] = 2\n",
    "d[5][0] = d[6][1] = d[7][2] = d[4][3] = 2\n",
    "\n",
    "#A=>C\n",
    "d[0][9] = d[1][10] = d[2][11] = d[3][8] = 1\n",
    "d[9][0] = d[10][1] = d[11][2] = d[8][3] = 1\n",
    "\n",
    "#A=>D\n",
    "d[0][13] = d[1][14] = d[2][15] = d[3][12] = 3\n",
    "d[13][0] = d[14][1] = d[15][2] = d[12][3] = 3\n",
    "\n",
    "#B=>A\n",
    "d[4][1] = d[5][2] = d[6][3] = d[7][0] = 2\n",
    "d[1][4] = d[2][5] = d[3][6] = d[0][7] = 2\n",
    "\n",
    "#B=>C\n",
    "d[4][9] = d[5][10] = d[6][11] = d[7][8] = 4\n",
    "d[9][4] = d[10][5] = d[11][6] = d[8][7] = 4\n",
    "\n",
    "#B=>D\n",
    "d[4][13] = d[5][14] = d[6][15] = d[7][12] = 2\n",
    "d[13][4] = d[14][5] = d[15][6] = d[12][7] = 2\n",
    "\n",
    "#C=>A\n",
    "d[8][1] = d[9][2] = d[10][3] = d[11][0] = 1\n",
    "d[1][8] = d[2][9] = d[3][10] = d[0][11] = 1\n",
    "\n",
    "#C=>B\n",
    "d[8][5] = d[9][6] = d[10][7] = d[11][4] = 4\n",
    "d[5][8] = d[6][9] = d[7][10] = d[4][11] = 4\n",
    "\n",
    "#C=>D\n",
    "d[8][13] = d[9][14] = d[10][15] = d[11][12] = 2\n",
    "d[13][8] = d[14][9] = d[15][10] = d[12][11] = 2\n",
    "\n",
    "#D=>A\n",
    "d[12][1] = d[13][2] = d[14][3] = d[15][0] = 3\n",
    "d[1][12] = d[2][13] = d[3][14] = d[0][15] = 3\n",
    "\n",
    "#D=>B\n",
    "d[12][5] = d[13][6] = d[14][7] = d[15][4] = 2\n",
    "d[5][12] = d[6][13] = d[7][14] = d[4][15] = 2\n",
    "\n",
    "#D=>C\n",
    "d[12][9] = d[13][10] = d[14][11] = d[15][8] = 2\n",
    "d[9][12] = d[10][13] = d[11][14] = d[8][15] = 2"
   ]
  },
  {
   "cell_type": "code",
   "execution_count": 9,
   "id": "0d1b7159",
   "metadata": {
    "tags": []
   },
   "outputs": [],
   "source": [
    "Hd = 0\n",
    "for i in range(16):\n",
    "    for j in range(16):\n",
    "        Hd += d[i][j]*q[i]*q[j]"
   ]
  },
  {
   "cell_type": "code",
   "execution_count": 14,
   "id": "c2fce34c-98c6-4808-94f2-40967f5f0d99",
   "metadata": {
    "scrolled": true,
    "tags": []
   },
   "outputs": [],
   "source": [
    "M=0.001\n",
    "\n",
    "#constraintを二つ、コストを一つ\n",
    "H = H1 + H2 + M*Hd\n",
    "\n",
    "# Compileクラスを使用して、QUBOを取得\n",
    "Q, offset = qubo.Compile(H).get_qubo()\n",
    "\n",
    "#print(Q)\n",
    "\n",
    "# サンプラーを選択\n",
    "solver = sampler.SASampler()\n",
    "\n",
    "#クラウドサンプラーの場合\n",
    "#API_KEY = \"API key\"\n",
    "#solver = sampler.NQSSampler()\n",
    "#result = solver.run(Q, api_key=API_KEY)\n",
    "\n",
    "# 計算\n",
    "result = solver.run(Q, shots=100)\n",
    "#print(result)"
   ]
  },
  {
   "cell_type": "code",
   "execution_count": 19,
   "id": "be9dd879-118b-4f9c-aed7-7f00664388c6",
   "metadata": {
    "tags": []
   },
   "outputs": [
    {
     "name": "stdout",
     "output_type": "stream",
     "text": [
      "Sample = {'q_{0}': 0.0, 'q_{10}': 0.0, 'q_{11}': 1.0, 'q_{12}': 1.0, 'q_{13}': 0.0, 'q_{14}': 0.0, 'q_{15}': 0.0, 'q_{1}': 0.0, 'q_{2}': 1.0, 'q_{3}': 0.0, 'q_{4}': 0.0, 'q_{5}': 1.0, 'q_{6}': 0.0, 'q_{7}': 0.0, 'q_{8}': 0.0, 'q_{9}': 0.0}\n"
     ]
    }
   ],
   "source": [
    "print(\"Sample =\", result[0][0])\n"
   ]
  },
  {
   "cell_type": "code",
   "execution_count": 20,
   "id": "79b3d6b2",
   "metadata": {
    "tags": []
   },
   "outputs": [
    {
     "name": "stdout",
     "output_type": "stream",
     "text": [
      "Cost = -7.193999999999999\n"
     ]
    }
   ],
   "source": [
    "print(\"Cost =\", result[0][1])"
   ]
  },
  {
   "cell_type": "markdown",
   "id": "2502d6be",
   "metadata": {
    "tags": []
   },
   "source": [
    "D=>B=>A=>Cの順番で解けました。"
   ]
  }
 ],
 "metadata": {
  "kernelspec": {
   "display_name": "Python 3 (ipykernel)",
   "language": "python",
   "name": "python3"
  },
  "language_info": {
   "codemirror_mode": {
    "name": "ipython",
    "version": 3
   },
   "file_extension": ".py",
   "mimetype": "text/x-python",
   "name": "python",
   "nbconvert_exporter": "python",
   "pygments_lexer": "ipython3",
   "version": "3.10.10"
  }
 },
 "nbformat": 4,
 "nbformat_minor": 5
}
